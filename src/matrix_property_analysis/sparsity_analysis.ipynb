{
 "cells": [
  {
   "cell_type": "code",
   "execution_count": 1,
   "metadata": {},
   "outputs": [],
   "source": [
    "import matplotlib.pyplot as plt\n",
    "import scipy.io as sio\n",
    "import scipy.sparse as scsp\n",
    "import numpy as np\n",
    "import os\n",
    "import json"
   ]
  },
  {
   "cell_type": "markdown",
   "metadata": {},
   "source": [
    "Make the paths match what you want to analyze and where to store the results\n",
    "\n",
    "Currently analyzing every matrix in a folder will mean every file with matrix in its name, and the .mm or .bin extension depending on what you want"
   ]
  },
  {
   "cell_type": "code",
   "execution_count": 2,
   "metadata": {},
   "outputs": [],
   "source": [
    "matrix_folder = \"/path/to/your/matrices/\"\n",
    "result_file_name = \"matrices_analyzed\"\n",
    "# the path to amgcl bin2mm can be whatever if convert_from_binary is False\n",
    "# set convert_from_binary to True if you want to convert from binary\n",
    "convert_from_binary = False\n",
    "amgcl_bin_to_mm_converter = \"path/to/bin2mm\"\n",
    "\n",
    "BLOCKSIZE = 2 # the blocksize of the matrices in the folder"
   ]
  },
  {
   "cell_type": "markdown",
   "metadata": {},
   "source": [
    "analyze_matrix computes various characteristics of a bsr matrix and returns the results in a dictionary\n",
    "Currently the function computes:\n",
    "* Mean nonzero entries per row\n",
    "* Median nonzero entries per row\n",
    "* Min number of nonzero entries in a row\n",
    "* max number of nonzero entries in a row\n",
    "* whether or not the matrix is symmetric\n",
    "* a bitmasked array showing the amount of blocks with each possible sparsity pattern"
   ]
  },
  {
   "cell_type": "code",
   "execution_count": 3,
   "metadata": {},
   "outputs": [],
   "source": [
    "# these constants are used to index the resulting tuple from sio.mminfo\n",
    "ROWS = 0\n",
    "COLS = 1\n",
    "ENTRIES = 2\n",
    "\n",
    "def analyze_matrix(matrix, metadata):\n",
    "    # compute a histogram of how many nonzero entries are in each row of the matrix\n",
    "    M = len(matrix.indptr) - 1\n",
    "    rowHistogram = np.zeros(M, dtype=int)\n",
    "    for i in range(1, M+1):\n",
    "        rowHistogram[i-1] = matrix.indptr[i]-matrix.indptr[i-1]\n",
    "\n",
    "    # use the histogram to compute simple statistical characteristics of the matrix\n",
    "    median = np.median(rowHistogram)\n",
    "    min_nnz = np.min(rowHistogram)\n",
    "    max_nnz = np.max(rowHistogram)\n",
    "    arithmetic_mean = np.mean(rowHistogram)\n",
    "\n",
    "    # check if the matrix is symmetric\n",
    "    symmetric = True\n",
    "    for row in range(M):\n",
    "        for colIdx in range(matrix.indptr[row], matrix.indptr[row+1]):\n",
    "            col = matrix.indices[colIdx]\n",
    "            if row not in matrix.indices[matrix.indptr[col]:matrix.indptr[col+1]]:\n",
    "                symmetric = False\n",
    "\n",
    "    bit_masked_count = [0]*16\n",
    "    for block_idx in range(len(matrix.data)):\n",
    "        mask = 0\n",
    "        mask += 1 if matrix.data[block_idx][0][0] != 0.0 else 0\n",
    "        mask += 2 if matrix.data[block_idx][0][1] != 0.0 else 0\n",
    "        mask += 4 if matrix.data[block_idx][1][0] != 0.0 else 0\n",
    "        mask += 8 if matrix.data[block_idx][1][1] != 0.0 else 0\n",
    "        bit_masked_count[mask] += 1\n",
    "\n",
    "    return {\n",
    "        \"nnz\" : str(metadata[ENTRIES]),\n",
    "        \"dims\" : str([metadata[ROWS], metadata[COLS]]),\n",
    "        \"median\" : str(median),\n",
    "        \"minNnzInRow\" : str(min_nnz),\n",
    "        \"maxNnzInRow\" : str(max_nnz),\n",
    "        \"mean\" : str(arithmetic_mean),\n",
    "        \"symmetric\" : str(symmetric),\n",
    "        \"blockSparsity\" : str(bit_masked_count)\n",
    "    }"
   ]
  },
  {
   "cell_type": "code",
   "execution_count": 4,
   "metadata": {},
   "outputs": [
    {
     "name": "stdout",
     "output_type": "stream",
     "text": [
      "analysis failed for prob_2_time_7443470.1734501__nit_1_matrix_istl_0.bin.mm\n",
      "analysis failed for prob_2_time_7325501.67195367__nit_3_matrix_istl_0.bin.mm\n",
      "analysis failed for prob_2_time_7443470.1734501__nit_4_matrix_istl_0.bin.mm\n",
      "analysis failed for prob_2_time_7443470.1734501__nit_0_matrix_istl_0.bin.mm\n",
      "analysis failed for prob_2_time_7443470.1734501__nit_2_matrix_istl_0.bin.mm\n",
      "analysis failed for prob_2_time_7652935.08672505__nit_1_matrix_istl_0.bin.mm\n",
      "analysis failed for prob_2_time_7652935.08672505__nit_3_matrix_istl_0.bin.mm\n"
     ]
    }
   ],
   "source": [
    "# this function returns true if the filename provided has \"matrix\" in it and the extension is the same as the one provided\n",
    "def matrix_filter(filename, extension):\n",
    "    if \"matrix\" not in filename:\n",
    "        return False\n",
    "    if len(extension) > len(filename):\n",
    "        return False\n",
    "    if filename[len(filename) - len(extension):] != extension:\n",
    "        return False\n",
    "    return True\n",
    "\n",
    "analysis_results = {}\n",
    "\n",
    "if convert_from_binary:\n",
    "    pass\n",
    "else:\n",
    "    files = os.scandir(matrix_folder)\n",
    "    filenames = []\n",
    "    for f in files:\n",
    "        filenames.append(f.name)\n",
    "    filenames = list(filter(lambda e: matrix_filter(e, \".mm\"), filenames))\n",
    "\n",
    "    for matrix_file in filenames:\n",
    "        # Read in the file as a BSR matrix\n",
    "        path_to_matrix = matrix_folder + matrix_file\n",
    "        try:\n",
    "            matrix_metadata = sio.mminfo(path_to_matrix)\n",
    "            matrix = sio.mmread(path_to_matrix)\n",
    "            matrix = matrix.tobsr([BLOCKSIZE,BLOCKSIZE])\n",
    "\n",
    "            analysis_results[matrix_file] = analyze_matrix(matrix, matrix_metadata)\n",
    "        except:\n",
    "            analysis_results[matrix_file] = {\"FAILED ANALYSIS\"}\n",
    "            print(\"analysis failed for\", matrix_file)"
   ]
  },
  {
   "cell_type": "code",
   "execution_count": null,
   "metadata": {},
   "outputs": [],
   "source": [
    "with open(result_file_name + '.json', 'w', encoding='utf-8') as f:\n",
    "    json.dump(analysis_results, f, ensure_ascii=False, indent=4)"
   ]
  }
 ],
 "metadata": {
  "kernelspec": {
   "display_name": ".venv",
   "language": "python",
   "name": "python3"
  },
  "language_info": {
   "codemirror_mode": {
    "name": "ipython",
    "version": 3
   },
   "file_extension": ".py",
   "mimetype": "text/x-python",
   "name": "python",
   "nbconvert_exporter": "python",
   "pygments_lexer": "ipython3",
   "version": "3.10.12"
  }
 },
 "nbformat": 4,
 "nbformat_minor": 2
}
